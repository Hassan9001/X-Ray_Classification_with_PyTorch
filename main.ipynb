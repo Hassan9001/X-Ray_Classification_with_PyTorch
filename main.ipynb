{
 "cells": [
  {
   "cell_type": "markdown",
   "id": "d2168399",
   "metadata": {},
   "source": [
    "# Main Execution Pipeline"
   ]
  },
  {
   "cell_type": "code",
   "execution_count": null,
   "id": "3baa62ee",
   "metadata": {},
   "outputs": [],
   "source": [
    "# -------\n",
    "# Install\n",
    "# -------\n",
    "# !pip install torch torchvision torchmetrics"
   ]
  },
  {
   "cell_type": "code",
   "execution_count": null,
   "id": "cafa4d00",
   "metadata": {},
   "outputs": [],
   "source": [
    "import os\n",
    "import random\n",
    "import shutil\n",
    "import numpy as np\n",
    "import torch\n",
    "import torch.nn as nn\n",
    "import torch.optim as optim\n",
    "from torch.utils.data import DataLoader\n",
    "from torchvision import transforms, datasets\n",
    "from torchvision.models import resnet50, ResNet50_Weights\n",
    "from torchmetrics import Accuracy, F1Score\n",
    "from tqdm.notebook import tqdm\n",
    "from functions import (\n",
    "    prepare_validation_set,\n",
    "    prepare_datasets,\n",
    "    prepare_dataloaders,\n",
    "    build_model,\n",
    "    train_with_validation,\n",
    "    evaluate_model,\n",
    "    save_model_formats)\n",
    "# ---------------------------\n",
    "# Set random seeds for reproducibility\n",
    "# ---------------------------\n",
    "SEED = 42\n",
    "random.seed(SEED)\n",
    "np.random.seed(SEED)\n",
    "torch.manual_seed(SEED)\n",
    "if torch.cuda.is_available():\n",
    "    torch.cuda.manual_seed(SEED)\n"
   ]
  },
  {
   "cell_type": "code",
   "execution_count": null,
   "id": "3622e8a2",
   "metadata": {},
   "outputs": [],
   "source": [
    "# ---------------------------------------\n",
    "# Workflow: Prepare data, build model, train, evaluate, and save.\n",
    "# ---------------------------------------\n",
    "\n",
    "# Step 1: Prepare validation set if not already done\n",
    "prepare_validation_set()\n",
    "\n",
    "# Step 2: Prepare datasets and dataloaders\n",
    "train_dataset, val_dataset, test_dataset = prepare_datasets()\n",
    "train_loader, val_loader, test_loader = prepare_dataloaders(\n",
    "    train_dataset, val_dataset, test_dataset, batch_size=32\n",
    ")\n",
    "\n",
    "# Step 3: Build model\n",
    "model = build_model()\n",
    "\n",
    "# Step 4: Set loss, optimizer, scheduler\n",
    "criterion = nn.BCEWithLogitsLoss()\n",
    "optimizer = optim.Adam(model.fc.parameters(), lr=1e-3)\n",
    "scheduler = optim.lr_scheduler.ReduceLROnPlateau(optimizer, mode='min', factor=0.5, patience=2, verbose=True)\n",
    "\n",
    "# Step 5: Train model\n",
    "train_with_validation(\n",
    "    model, train_loader, val_loader, criterion, optimizer, scheduler,\n",
    "    num_epochs=50, patience=5\n",
    ")\n",
    "\n",
    "# Step 6: Load best model\n",
    "model.load_state_dict(torch.load('model.pth'))\n",
    "\n",
    "# Step 7: Evaluate on test set\n",
    "evaluate_model(model, test_loader)\n",
    "\n",
    "# Step 8: Save model in multiple formats\n",
    "save_model_formats(model)\n",
    "\n",
    "\n"
   ]
  }
 ],
 "metadata": {
  "colab": {
   "name": "Welcome to DataCamp Workspaces.ipynb",
   "provenance": []
  },
  "editor": "DataLab",
  "kernelspec": {
   "display_name": "Python 3 (ipykernel)",
   "language": "python",
   "name": "python3"
  },
  "language_info": {
   "codemirror_mode": {
    "name": "ipython",
    "version": 3
   },
   "file_extension": ".py",
   "mimetype": "text/x-python",
   "name": "python",
   "nbconvert_exporter": "python",
   "pygments_lexer": "ipython3",
   "version": "3.9.19"
  }
 },
 "nbformat": 4,
 "nbformat_minor": 5
}
